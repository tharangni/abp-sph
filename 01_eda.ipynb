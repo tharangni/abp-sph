{
 "cells": [
  {
   "cell_type": "markdown",
   "id": "e17fc147-5b2d-4f4f-a043-a91f6c13c3d2",
   "metadata": {},
   "source": [
    "# 1. Feature Engineering, Data Cleaning"
   ]
  },
  {
   "cell_type": "code",
   "execution_count": 1,
   "id": "47eeb7ea-302f-435e-bca4-7a2ec3f8b6e0",
   "metadata": {},
   "outputs": [],
   "source": [
    "import re\n",
    "import pandas as pd\n",
    "import seaborn as sns\n",
    "\n",
    "pd.set_option('display.max_colwidth', None)"
   ]
  },
  {
   "cell_type": "code",
   "execution_count": 2,
   "id": "3a656d81-1aa2-4561-8cbb-4263ca491c76",
   "metadata": {},
   "outputs": [],
   "source": [
    "import spacy\n",
    "nlp = spacy.load(\"en_core_web_sm\")"
   ]
  },
  {
   "cell_type": "code",
   "execution_count": 3,
   "id": "096cfac5-ee4b-498d-9873-c956bc190477",
   "metadata": {},
   "outputs": [],
   "source": [
    "# df['spacy_tags'] = df['product_name'].apply(lambda x: [(token.text, token.pos_, token.tag_) for token in nlp(x.lower())])"
   ]
  },
  {
   "cell_type": "markdown",
   "id": "745de299-0743-4138-afef-aa7a6ff04a38",
   "metadata": {
    "tags": []
   },
   "source": [
    "### Data Summary"
   ]
  },
  {
   "cell_type": "code",
   "execution_count": 4,
   "id": "90354746-4df3-4d69-b5a7-46c4527e563c",
   "metadata": {},
   "outputs": [],
   "source": [
    "df = pd.read_csv('amazon_uk_shoes_products_dataset_2021_12.csv', sep=\",\")"
   ]
  },
  {
   "cell_type": "code",
   "execution_count": 5,
   "id": "4d3c42f9-8ff5-4e93-8538-466273aaa47f",
   "metadata": {
    "scrolled": true,
    "tags": []
   },
   "outputs": [
    {
     "data": {
      "text/html": [
       "<div>\n",
       "<style scoped>\n",
       "    .dataframe tbody tr th:only-of-type {\n",
       "        vertical-align: middle;\n",
       "    }\n",
       "\n",
       "    .dataframe tbody tr th {\n",
       "        vertical-align: top;\n",
       "    }\n",
       "\n",
       "    .dataframe thead th {\n",
       "        text-align: right;\n",
       "    }\n",
       "</style>\n",
       "<table border=\"1\" class=\"dataframe\">\n",
       "  <thead>\n",
       "    <tr style=\"text-align: right;\">\n",
       "      <th></th>\n",
       "      <th>uniq_id</th>\n",
       "      <th>review_rating</th>\n",
       "      <th>scraped_at</th>\n",
       "      <th>helpful_count</th>\n",
       "      <th>review_title</th>\n",
       "    </tr>\n",
       "  </thead>\n",
       "  <tbody>\n",
       "    <tr>\n",
       "      <th>5129</th>\n",
       "      <td>514f7d95-e2d7-5f30-94f6-8f681c9c5f15</td>\n",
       "      <td>2.0</td>\n",
       "      <td>24/12/2021 02:28:48</td>\n",
       "      <td>35 people found this helpful</td>\n",
       "      <td>I know everyone loves these but.....</td>\n",
       "    </tr>\n",
       "    <tr>\n",
       "      <th>5526</th>\n",
       "      <td>5f6ab644-1343-5f34-8ff6-e4844b87198c</td>\n",
       "      <td>5.0</td>\n",
       "      <td>24/12/2021 02:28:56</td>\n",
       "      <td>One person found this helpful</td>\n",
       "      <td>Got em super cheap, nice basic shoe</td>\n",
       "    </tr>\n",
       "    <tr>\n",
       "      <th>1260</th>\n",
       "      <td>de732f9f-49ab-5392-819d-3c0bddbbb752</td>\n",
       "      <td>2.0</td>\n",
       "      <td>24/12/2021 02:26:57</td>\n",
       "      <td>One person found this helpful</td>\n",
       "      <td>Nope</td>\n",
       "    </tr>\n",
       "  </tbody>\n",
       "</table>\n",
       "</div>"
      ],
      "text/plain": [
       "                                   uniq_id  review_rating  \\\n",
       "5129  514f7d95-e2d7-5f30-94f6-8f681c9c5f15            2.0   \n",
       "5526  5f6ab644-1343-5f34-8ff6-e4844b87198c            5.0   \n",
       "1260  de732f9f-49ab-5392-819d-3c0bddbbb752            2.0   \n",
       "\n",
       "               scraped_at                  helpful_count  \\\n",
       "5129  24/12/2021 02:28:48   35 people found this helpful   \n",
       "5526  24/12/2021 02:28:56  One person found this helpful   \n",
       "1260  24/12/2021 02:26:57  One person found this helpful   \n",
       "\n",
       "                              review_title  \n",
       "5129  I know everyone loves these but.....  \n",
       "5526   Got em super cheap, nice basic shoe  \n",
       "1260                                  Nope  "
      ]
     },
     "execution_count": 5,
     "metadata": {},
     "output_type": "execute_result"
    }
   ],
   "source": [
    "df.sample(3)[['uniq_id','review_rating', 'scraped_at', 'helpful_count', 'review_title']]"
   ]
  },
  {
   "cell_type": "code",
   "execution_count": 6,
   "id": "08639e11-cf00-466e-9f2d-22e6a34fe9e4",
   "metadata": {
    "scrolled": true,
    "tags": []
   },
   "outputs": [
    {
     "name": "stdout",
     "output_type": "stream",
     "text": [
      "<class 'pandas.core.frame.DataFrame'>\n",
      "RangeIndex: 6823 entries, 0 to 6822\n",
      "Data columns (total 11 columns):\n",
      " #   Column             Non-Null Count  Dtype  \n",
      "---  ------             --------------  -----  \n",
      " 0   url                6823 non-null   object \n",
      " 1   product_name       6823 non-null   object \n",
      " 2   reviewer_name      6823 non-null   object \n",
      " 3   review_title       6822 non-null   object \n",
      " 4   review_text        6814 non-null   object \n",
      " 5   review_rating      6823 non-null   float64\n",
      " 6   verified_purchase  6823 non-null   bool   \n",
      " 7   review_date        6823 non-null   object \n",
      " 8   helpful_count      1953 non-null   object \n",
      " 9   uniq_id            6823 non-null   object \n",
      " 10  scraped_at         6823 non-null   object \n",
      "dtypes: bool(1), float64(1), object(9)\n",
      "memory usage: 539.8+ KB\n"
     ]
    }
   ],
   "source": [
    "df.info()"
   ]
  },
  {
   "cell_type": "code",
   "execution_count": 7,
   "id": "fa02b23e-6d50-424a-9f40-e77a2894d15b",
   "metadata": {},
   "outputs": [
    {
     "data": {
      "text/html": [
       "<div>\n",
       "<style scoped>\n",
       "    .dataframe tbody tr th:only-of-type {\n",
       "        vertical-align: middle;\n",
       "    }\n",
       "\n",
       "    .dataframe tbody tr th {\n",
       "        vertical-align: top;\n",
       "    }\n",
       "\n",
       "    .dataframe thead th {\n",
       "        text-align: right;\n",
       "    }\n",
       "</style>\n",
       "<table border=\"1\" class=\"dataframe\">\n",
       "  <thead>\n",
       "    <tr style=\"text-align: right;\">\n",
       "      <th></th>\n",
       "      <th>review_rating</th>\n",
       "    </tr>\n",
       "  </thead>\n",
       "  <tbody>\n",
       "    <tr>\n",
       "      <th>count</th>\n",
       "      <td>6823.000000</td>\n",
       "    </tr>\n",
       "    <tr>\n",
       "      <th>mean</th>\n",
       "      <td>4.132493</td>\n",
       "    </tr>\n",
       "    <tr>\n",
       "      <th>std</th>\n",
       "      <td>1.336969</td>\n",
       "    </tr>\n",
       "    <tr>\n",
       "      <th>min</th>\n",
       "      <td>1.000000</td>\n",
       "    </tr>\n",
       "    <tr>\n",
       "      <th>25%</th>\n",
       "      <td>4.000000</td>\n",
       "    </tr>\n",
       "    <tr>\n",
       "      <th>50%</th>\n",
       "      <td>5.000000</td>\n",
       "    </tr>\n",
       "    <tr>\n",
       "      <th>75%</th>\n",
       "      <td>5.000000</td>\n",
       "    </tr>\n",
       "    <tr>\n",
       "      <th>max</th>\n",
       "      <td>5.000000</td>\n",
       "    </tr>\n",
       "  </tbody>\n",
       "</table>\n",
       "</div>"
      ],
      "text/plain": [
       "       review_rating\n",
       "count    6823.000000\n",
       "mean        4.132493\n",
       "std         1.336969\n",
       "min         1.000000\n",
       "25%         4.000000\n",
       "50%         5.000000\n",
       "75%         5.000000\n",
       "max         5.000000"
      ]
     },
     "execution_count": 7,
     "metadata": {},
     "output_type": "execute_result"
    }
   ],
   "source": [
    "df.describe()"
   ]
  },
  {
   "cell_type": "code",
   "execution_count": 8,
   "id": "1d1def3c-cb3a-4bfa-a5c8-185fef39fc54",
   "metadata": {},
   "outputs": [
    {
     "name": "stdout",
     "output_type": "stream",
     "text": [
      "Number of nulls/empty space in each column in the dataframe\n",
      "url  :  0\n",
      "url  :  0 \n",
      "\n",
      "product_name  :  0\n",
      "product_name  :  0 \n",
      "\n",
      "reviewer_name  :  0\n",
      "reviewer_name  :  0 \n",
      "\n",
      "review_title  :  1\n",
      "review_title  :  0 \n",
      "\n",
      "review_text  :  9\n",
      "review_text  :  0 \n",
      "\n",
      "review_rating  :  0\n",
      "review_rating  :  0 \n",
      "\n",
      "verified_purchase  :  0\n",
      "verified_purchase  :  0 \n",
      "\n",
      "review_date  :  0\n",
      "review_date  :  0 \n",
      "\n",
      "helpful_count  :  4870\n",
      "helpful_count  :  0 \n",
      "\n",
      "uniq_id  :  0\n",
      "uniq_id  :  0 \n",
      "\n",
      "scraped_at  :  0\n",
      "scraped_at  :  0 \n",
      "\n"
     ]
    }
   ],
   "source": [
    "print(\"Number of nulls/empty space in each column in the dataframe\")\n",
    "for col in df.columns:\n",
    "    print(col, \" : \" , df[col].isna().sum())\n",
    "    print(col, \" : \" , (df[col].apply(lambda x: len(str(x))) < 1).sum(), \"\\n\")"
   ]
  },
  {
   "cell_type": "code",
   "execution_count": 9,
   "id": "11497ae6-ab55-49c3-9db8-2ef4da310f7b",
   "metadata": {
    "scrolled": true,
    "tags": []
   },
   "outputs": [
    {
     "data": {
      "text/html": [
       "<div>\n",
       "<style scoped>\n",
       "    .dataframe tbody tr th:only-of-type {\n",
       "        vertical-align: middle;\n",
       "    }\n",
       "\n",
       "    .dataframe tbody tr th {\n",
       "        vertical-align: top;\n",
       "    }\n",
       "\n",
       "    .dataframe thead th {\n",
       "        text-align: right;\n",
       "    }\n",
       "</style>\n",
       "<table border=\"1\" class=\"dataframe\">\n",
       "  <thead>\n",
       "    <tr style=\"text-align: right;\">\n",
       "      <th></th>\n",
       "      <th>product_name</th>\n",
       "    </tr>\n",
       "  </thead>\n",
       "  <tbody>\n",
       "    <tr>\n",
       "      <th>5459</th>\n",
       "      <td>konhill Women's Casual Walking Shoes Breathable Mesh Work Slip-on Sneakers 0617 Black Size: 5</td>\n",
       "    </tr>\n",
       "    <tr>\n",
       "      <th>3900</th>\n",
       "      <td>konhill Women's Casual Walking Shoes Breathable Mesh Work Slip-on Sneakers, 0701 All White, 5</td>\n",
       "    </tr>\n",
       "    <tr>\n",
       "      <th>2831</th>\n",
       "      <td>adidas unisex child Duramo Sl Running Shoe, Black/White/Grey, 1.5 Little Kid US</td>\n",
       "    </tr>\n",
       "    <tr>\n",
       "      <th>2271</th>\n",
       "      <td>adidas Unisex-Child Duramo Sl Running Shoe Size: 4 Toddler</td>\n",
       "    </tr>\n",
       "    <tr>\n",
       "      <th>943</th>\n",
       "      <td>PUMA Women's Ultra TRILLER Cross Trainer, Black-Metallic Gold, 6</td>\n",
       "    </tr>\n",
       "    <tr>\n",
       "      <th>...</th>\n",
       "      <td>...</td>\n",
       "    </tr>\n",
       "    <tr>\n",
       "      <th>3077</th>\n",
       "      <td>Merrell Kids&amp;#39; Trail Quest Shoes</td>\n",
       "    </tr>\n",
       "    <tr>\n",
       "      <th>2829</th>\n",
       "      <td>adidas unisex child Duramo Sl Running Shoe, Black/White/Grey, 1.5 Little Kid US</td>\n",
       "    </tr>\n",
       "    <tr>\n",
       "      <th>2269</th>\n",
       "      <td>adidas Unisex-Child Duramo Sl Running Shoe Size: 4 Toddler</td>\n",
       "    </tr>\n",
       "    <tr>\n",
       "      <th>5622</th>\n",
       "      <td>New Balance Men's All Coast 425 V1 Sneaker, Grey/White, 10.5</td>\n",
       "    </tr>\n",
       "    <tr>\n",
       "      <th>1294</th>\n",
       "      <td>New Balance Men's All Coast 425 V1 Sneaker, Navy/Natural Indigo, 11</td>\n",
       "    </tr>\n",
       "  </tbody>\n",
       "</table>\n",
       "<p>364 rows × 1 columns</p>\n",
       "</div>"
      ],
      "text/plain": [
       "                                                                                       product_name\n",
       "5459  konhill Women's Casual Walking Shoes Breathable Mesh Work Slip-on Sneakers 0617 Black Size: 5\n",
       "3900  konhill Women's Casual Walking Shoes Breathable Mesh Work Slip-on Sneakers, 0701 All White, 5\n",
       "2831                adidas unisex child Duramo Sl Running Shoe, Black/White/Grey, 1.5 Little Kid US\n",
       "2271                                     adidas Unisex-Child Duramo Sl Running Shoe Size: 4 Toddler\n",
       "943                                PUMA Women's Ultra TRILLER Cross Trainer, Black-Metallic Gold, 6\n",
       "...                                                                                             ...\n",
       "3077                                                            Merrell Kids&#39; Trail Quest Shoes\n",
       "2829                adidas unisex child Duramo Sl Running Shoe, Black/White/Grey, 1.5 Little Kid US\n",
       "2269                                     adidas Unisex-Child Duramo Sl Running Shoe Size: 4 Toddler\n",
       "5622                                   New Balance Men's All Coast 425 V1 Sneaker, Grey/White, 10.5\n",
       "1294                            New Balance Men's All Coast 425 V1 Sneaker, Navy/Natural Indigo, 11\n",
       "\n",
       "[364 rows x 1 columns]"
      ]
     },
     "execution_count": 9,
     "metadata": {},
     "output_type": "execute_result"
    }
   ],
   "source": [
    "df[df.duplicated(['uniq_id'], keep=False)].sort_values(['uniq_id'])[['product_name']]"
   ]
  },
  {
   "cell_type": "code",
   "execution_count": 10,
   "id": "569a1b85-4542-40bf-b805-68777d2c15a3",
   "metadata": {},
   "outputs": [
    {
     "data": {
      "text/plain": [
       "(6641, (6823, 11), (6823, 11))"
      ]
     },
     "execution_count": 10,
     "metadata": {},
     "output_type": "execute_result"
    }
   ],
   "source": [
    "df.uniq_id.nunique(), df.shape, df.drop_duplicates().shape\n",
    "\n",
    "# Implies that there might be duplicate data.\n",
    "# Reason: the same unique id was used to write the same review + rating for a variation of the same product. \n",
    "# i.e. reviews scraped are product (name) variation agnostic"
   ]
  },
  {
   "cell_type": "markdown",
   "id": "23251295-1e1c-4f08-90cc-cc6906123399",
   "metadata": {
    "tags": []
   },
   "source": [
    "### Data Cleaning Ideas\n",
    "\n",
    "1. Extract detailed information from product name -> Shoe company name, Shoe style name, Shoe style design, Shoe Gender.\n",
    "    - Gender assumption: If neither man/woman/unisex is provided, then child\n",
    "    - [x] Shoe company name extraction \n",
    "    - [x] Shoe style name extraction \n",
    "    - [x] Shoe gender name extraction \n",
    "2. [x] Extract purchase date from review date\n",
    "    - [x] Compute difference in days since scrape date\n",
    "3. [x] Extract purchase market from review date\n",
    "4. [x] Review language if possible -> extract via langdetect or use market as a proxy for language\n",
    "5. [x] Check if user name is really a person based on the reviewer name\n",
    "6. [x] Convert helpful count to float from str\n",
    "7. [x] See if any columns has missing values. If there are any, how can we fill it? \n",
    "8. [x] Assign new unique id per shoe style name to account for 'duplicate data' -> what is the technical name for this sort of data dupe manip if any?\n",
    "9. [x] Remove Product name [optional] and drop duplicates for all other columns\n",
    "10. [x] Check data types after extracting possible features\n",
    "11. [x] Summary of before & after cleaning of data frames\n",
    "    -  Is the data set balanced for all competitors? If not, what assumption can we make?"
   ]
  },
  {
   "cell_type": "markdown",
   "id": "095ecb24-2a19-4fd6-9603-bdaa81263124",
   "metadata": {
    "tags": []
   },
   "source": [
    "#### 1. Extract detailed information from product name"
   ]
  },
  {
   "cell_type": "code",
   "execution_count": 11,
   "id": "d2604623-7e4a-4c99-b564-93cef131753a",
   "metadata": {},
   "outputs": [],
   "source": [
    "gender_list = [\"mens\", \"womens\", \"boys\", \"girls\", 'boy', 'girl', \"kids\", \"kid\", \"men\", \"women\", \"child\", 'youth', 'yths', 'baby', 'unisex']\n",
    "brand_list = [\"adidas\", \"puma\", \"cambridge\", \"kenneth cole\", \"new balance\", \"debaijia\", \"kappa\", \"dockers\", \"geox\", \"klasified\", \"rohde\", \"guess\",\n",
    "             \"reebok\", \"clarks\", \"skechers\", \"converse\", \"merrell\", \"ara\", \"mizuno\", \"superfit\", \"propet\", \"konhill\", \"birkenstock\", \"crocs\",\n",
    "             \"asics\", \"billabong\", \"umbro\", \"levis\", \"boss\", \"desconocido\", \"nike\", \"hugo\", \"tiglio\", \"fischer\", \"supra\", \"shimano\", \"dc\",\n",
    "             \"beck\", \"teva\", \"keds\", \"ecco\", \"ryka\", \"element\", \"saucony\", \"bugatti\", \"lico\", \"kangaroos\", \"nautica\", \"reef\", \"bisgaard\", \n",
    "              \"bloch\", \"blowfish\", \"brooks\", \"camper\", \"columbia\", \"dearfoams\", \"demar\", \"desigual\", \"diadora\", \"fila\", \"florsheim\", \n",
    "              \"gabor\", \"giesswein\", \"gioseppo\", \"hush puppies\", \"kamik\", \"keen\", \"kickers\", \"kswiss\", \"laportiva\", \"lumberjack\", \"mustang\", \n",
    "              \"naturino\", \"oshkosh bgosh\", \"pablosky\", \"pepe jeans\", \"pikolinos\", \"primigi\", \"richter kinderschuhe\", \"rockport\", \"salomon\", \n",
    "              \"sperry\", \"superga\", \"timberland\", \"toddler\", \"ugg \", \"under armour\", \"victoria\"]"
   ]
  },
  {
   "cell_type": "code",
   "execution_count": 12,
   "id": "0308f9b8-34b0-408e-a01c-7312e2dcefe3",
   "metadata": {},
   "outputs": [],
   "source": [
    "brand_dict = dict()\n",
    "style_dict = dict()\n",
    "gender_dict = dict()"
   ]
  },
  {
   "cell_type": "code",
   "execution_count": 13,
   "id": "6d50cda2-aada-40d1-8b5b-a0e824cdbd31",
   "metadata": {},
   "outputs": [],
   "source": [
    "def preprocess_product_name(text: str):\n",
    "    text = re.sub(\"&#39;\", \"'\", text)\n",
    "    text = re.sub(\"’\", \"'\", text)\n",
    "    text = re.sub(r'[^\\w\\s]', '', text)\n",
    "    text = re.sub(\"é\", \"e\", text)\n",
    "    return text.lower().strip()\n",
    "\n",
    "def reduce_brand_name(text: str):\n",
    "    output = text.strip()\n",
    "    for gender in gender_list:\n",
    "        if gender in text:\n",
    "            output = text.replace(gender, \"\").strip()\n",
    "        else:\n",
    "            pass\n",
    "    output = output.replace(\" s\", \"\")\n",
    "    \n",
    "    for brand in brand_list:\n",
    "        if brand in output:\n",
    "            output = brand\n",
    "        else:\n",
    "            pass\n",
    "    return output\n",
    "\n",
    "def compound_gender(g_list: list):\n",
    "    output = g_list[0]\n",
    "    if len(g_list) > 1:\n",
    "        output = 'unisex'\n",
    "    else:\n",
    "        output = g_list[0]\n",
    "    return output\n",
    "\n",
    "def style_extractor(text: str):\n",
    "    \n",
    "    '''\n",
    "    regex to replace digits, eu, us, uk, size, color, colour with null space\n",
    "    '''\n",
    "    \n",
    "    text = re.sub(\"\\d+\", \"\", text)\n",
    "    text = re.sub(\"eu|uk|us|size|color|colour\", '', text)\n",
    "    text = re.sub(\"  \", \" \", text)\n",
    "    text = text.strip()\n",
    "    \n",
    "    words = text.split()\n",
    "    text = \" \".join(sorted(set(words), key=words.index))\n",
    "    return text\n",
    "\n",
    "    "
   ]
  },
  {
   "cell_type": "code",
   "execution_count": 14,
   "id": "cd522eae-fe02-4ca1-9814-223958b89852",
   "metadata": {},
   "outputs": [],
   "source": [
    "df['product_name'] = df['product_name'].map(preprocess_product_name)\n",
    "all_products = df['product_name'].drop_duplicates().apply(lambda x: x.split(\" \")).tolist()"
   ]
  },
  {
   "cell_type": "code",
   "execution_count": 15,
   "id": "14116b6c-75dd-41ef-9f4b-e6986552a0ab",
   "metadata": {
    "scrolled": true,
    "tags": []
   },
   "outputs": [],
   "source": [
    "for prd in all_products:\n",
    "    for gender in gender_list:\n",
    "        try:\n",
    "            gender_set = set()\n",
    "            results = re.findall(r'((?:fe)?male)|((?:wo)?men)|(unisex)', \" \".join(prd))\n",
    "            for item in results:\n",
    "                for i in item:\n",
    "                    gender_set.add(i)\n",
    "            gender_set.remove('')\n",
    "            gender_dict[\" \".join(prd)] = list(gender_set)\n",
    "            \n",
    "            if gender == prd[1]:\n",
    "                brand_dict[\" \".join(prd)] = \" \".join(prd[:1])\n",
    "                style_dict[\" \".join(prd)] = \" \".join(prd[2:])\n",
    "            elif gender == prd[2]:\n",
    "                brand_dict[\" \".join(prd)] = \" \".join(prd[:2])\n",
    "                style_dict[\" \".join(prd)] = \" \".join(prd[3:])\n",
    "            elif (gender != prd[1]) & (gender != prd[2]) & (gender != prd[3]) & (gender != prd[0]):\n",
    "                brand_dict[\" \".join(prd)] = \" \".join(prd[:2])\n",
    "                style_dict[\" \".join(prd)] = \" \".join(prd[3:])\n",
    "                \n",
    "        except:\n",
    "            brand_dict[\" \".join(prd)] = \" \".join(prd)\n",
    "            style_dict[\" \".join(prd)] = \" \".join(prd[2:])\n",
    "            gender_dict[\" \".join(prd)] = [\"child\"]"
   ]
  },
  {
   "cell_type": "code",
   "execution_count": 16,
   "id": "fefc01d4-372f-47ef-a3eb-5ce7d540343e",
   "metadata": {},
   "outputs": [],
   "source": [
    "df[\"product_brand_name\"] = df[\"product_name\"].map(brand_dict)\n",
    "df[\"product_brand_name\"] = df[\"product_brand_name\"].map(reduce_brand_name)"
   ]
  },
  {
   "cell_type": "code",
   "execution_count": 17,
   "id": "ee99f58c-96ec-42a1-a9a8-3258a8aadeb1",
   "metadata": {},
   "outputs": [],
   "source": [
    "df[\"product_style_name\"] = df[\"product_name\"].map(style_dict)\n",
    "df.loc[df.product_style_name=='', \"product_style_name\"] = df.loc[df.product_style_name=='', \"product_brand_name\"]\n",
    "df[\"product_style_name\"] = df[\"product_style_name\"].map(style_extractor)"
   ]
  },
  {
   "cell_type": "code",
   "execution_count": 18,
   "id": "795e2528-0ccb-4ee0-92d1-068d29124fdb",
   "metadata": {},
   "outputs": [],
   "source": [
    "df[\"product_shoe_gender\"] = df[\"product_name\"].map(gender_dict)\n",
    "df['product_shoe_gender'] = df['product_shoe_gender'].map(compound_gender)"
   ]
  },
  {
   "cell_type": "markdown",
   "id": "438a05c4-91c3-44f7-ae32-17afa000ce99",
   "metadata": {
    "tags": []
   },
   "source": [
    "#### 2,3. Extract information from review date data"
   ]
  },
  {
   "cell_type": "code",
   "execution_count": 19,
   "id": "165d5e54-b2bb-4031-bf43-2ecdfa214c2c",
   "metadata": {},
   "outputs": [],
   "source": [
    "from spacy.matcher import Matcher\n",
    "\n",
    "matcher = Matcher(nlp.vocab)\n",
    "pattern1 = [{\"POS\": \"NUM\"}, {\"POS\": \"PROPN\"}, {\"POS\": \"NUM\"}]\n",
    "pattern2 = [{\"POS\": \"PROPN\"}]\n",
    "matcher.add(\"PROPER_NOUNS\", [pattern1, pattern2], greedy='LONGEST')\n",
    "\n",
    "\n",
    "def market_date_matcher(text: str):\n",
    "    \n",
    "    output = dict()\n",
    "    loc = ''\n",
    "    \n",
    "    doc = nlp(text)\n",
    "    matches = matcher(doc)\n",
    "    \n",
    "    date = doc[matches[0][1]:matches[0][2]]\n",
    "    for match in matches[1:]:\n",
    "        loc =  loc + str(doc[match[1]:match[2]]) + ' '\n",
    "    output[\"market\"] = loc.strip()\n",
    "    output[\"date\"] = str(date)\n",
    "    \n",
    "    return output"
   ]
  },
  {
   "cell_type": "code",
   "execution_count": 20,
   "id": "9fe08d68-7389-4055-9eec-c4e0f5abc6f0",
   "metadata": {},
   "outputs": [
    {
     "name": "stdout",
     "output_type": "stream",
     "text": [
      "CPU times: user 30.2 s, sys: 124 ms, total: 30.3 s\n",
      "Wall time: 30.5 s\n"
     ]
    }
   ],
   "source": [
    "%%time\n",
    "df['review_market'] = df['review_date'].apply(lambda x: market_date_matcher(x)['market'])\n",
    "df['review_posted_date'] = df['review_date'].apply(lambda x: market_date_matcher(x)['date'])"
   ]
  },
  {
   "cell_type": "code",
   "execution_count": 21,
   "id": "80556191-4141-4d00-8b63-fe1a0b421165",
   "metadata": {},
   "outputs": [],
   "source": [
    "df['scraped_at'] = pd.DatetimeIndex(df['scraped_at'])\n",
    "df['review_posted_date'] = pd.DatetimeIndex(df['review_posted_date'])"
   ]
  },
  {
   "cell_type": "code",
   "execution_count": 22,
   "id": "31af598d-b0c9-402d-ba5a-56478ff8e960",
   "metadata": {},
   "outputs": [],
   "source": [
    "df['scraped_date_diff_posted'] = (df['scraped_at'] - df['review_posted_date']).dt.days"
   ]
  },
  {
   "cell_type": "markdown",
   "id": "ca89a1c2-e14b-4e25-ad85-c8247eed963f",
   "metadata": {
    "tags": []
   },
   "source": [
    "#### 4. Review Language assigning"
   ]
  },
  {
   "cell_type": "markdown",
   "id": "2cf2b267-c477-443c-81e7-720588dcbd3f",
   "metadata": {},
   "source": [
    "Fill missing review text (nans) with copy of review title."
   ]
  },
  {
   "cell_type": "code",
   "execution_count": 23,
   "id": "1cf7ce48-91fb-4fa6-a6bf-8eed46a81cdd",
   "metadata": {},
   "outputs": [],
   "source": [
    "import langdetect\n",
    "from langdetect import detect \n",
    "langdetect.DetectorFactory.seed = 0"
   ]
  },
  {
   "cell_type": "code",
   "execution_count": 24,
   "id": "b6c276d0-b0a7-4100-9b3e-ef734bbdb439",
   "metadata": {},
   "outputs": [],
   "source": [
    "df.loc[df.review_text.isna(), \"review_text\"] = df.loc[df.review_text.isna(), \"review_title\"]"
   ]
  },
  {
   "cell_type": "code",
   "execution_count": 25,
   "id": "246ad01a-1b7d-4c49-897a-360b6403efd0",
   "metadata": {},
   "outputs": [
    {
     "data": {
      "text/plain": [
       "<Axes: ylabel='Frequency'>"
      ]
     },
     "execution_count": 25,
     "metadata": {},
     "output_type": "execute_result"
    },
    {
     "data": {
      "image/png": "[encoded data removed]",
      "text/plain": [
       "<Figure size 1200x600 with 1 Axes>"
      ]
     },
     "metadata": {},
     "output_type": "display_data"
    }
   ],
   "source": [
    "df.review_text.map(len).plot.hist(bins=200, alpha=0.5, xlim=(0,1200), \n",
    "                                  xticks=list(range(0, 1200, 20)), rot=90, \n",
    "                                  figsize=(12,6),  edgecolor = \"grey\")"
   ]
  },
  {
   "cell_type": "code",
   "execution_count": 26,
   "id": "ce9c051a-f3fd-4b5a-b0db-64fe936c813f",
   "metadata": {},
   "outputs": [
    {
     "name": "stdout",
     "output_type": "stream",
     "text": [
      "CPU times: user 7.15 s, sys: 53 ms, total: 7.2 s\n",
      "Wall time: 6.87 s\n"
     ]
    }
   ],
   "source": [
    "%%time\n",
    "# cut off of applying langdetect package to only reviews that have more than 20 characters as per the review length distribution above\n",
    "# discard using the langdetect package on reviews less than 20 chars as the package works best on long text\n",
    "df['review_lang'] = df['review_text'].apply(lambda x:  detect(x) if len(x) > 20 else 'nan')"
   ]
  },
  {
   "cell_type": "markdown",
   "id": "4927f728-7c43-45c2-a200-f0cc5f9eed57",
   "metadata": {
    "tags": []
   },
   "source": [
    "#### 5. Check if user name is really a person based on the reviewer name\n"
   ]
  },
  {
   "cell_type": "code",
   "execution_count": 27,
   "id": "24bad9a8-f127-4ee1-a6de-2b7407a0b0f2",
   "metadata": {},
   "outputs": [],
   "source": [
    "from collections import Counter"
   ]
  },
  {
   "cell_type": "code",
   "execution_count": 28,
   "id": "7afec62e-a4db-4121-bcb8-4f31164d945f",
   "metadata": {},
   "outputs": [],
   "source": [
    "def real_username(user_name: str):\n",
    "    default = 'Processed Amazon Customer'\n",
    "    pos_tag_counter = Counter([(token.pos_) for token in nlp(user_name.strip())])\n",
    "    if ((len(pos_tag_counter) < 3) & ('PROPN' in pos_tag_counter)) | ((len(pos_tag_counter) < 2) & ('NOUN' in pos_tag_counter)):\n",
    "        default = user_name\n",
    "    else:\n",
    "        pass \n",
    "    return default"
   ]
  },
  {
   "cell_type": "code",
   "execution_count": 29,
   "id": "ad0e24d3-e07e-4f16-be68-8d7f0a409d71",
   "metadata": {},
   "outputs": [
    {
     "name": "stdout",
     "output_type": "stream",
     "text": [
      "CPU times: user 11.1 s, sys: 37.4 ms, total: 11.1 s\n",
      "Wall time: 11.1 s\n"
     ]
    }
   ],
   "source": [
    "%%time\n",
    "df['checked_user_name'] = df['reviewer_name'].apply(lambda x: real_username(x))"
   ]
  },
  {
   "cell_type": "markdown",
   "id": "9dc9ff10-db23-461e-b7e9-b3c7df2c3dc0",
   "metadata": {
    "tags": []
   },
   "source": [
    "#### 6,7. Convert helpful count from str to float. Deal with missing values"
   ]
  },
  {
   "cell_type": "code",
   "execution_count": 30,
   "id": "393982a0-ec73-42cb-8d82-26cc499372f0",
   "metadata": {},
   "outputs": [],
   "source": [
    "df.loc[df.review_title.isna(), \"review_title\"] = \" \""
   ]
  },
  {
   "cell_type": "code",
   "execution_count": 31,
   "id": "5dc33f77-8b20-4c84-a114-0517adb7d60c",
   "metadata": {},
   "outputs": [],
   "source": [
    "df['helpful_count'] = df['helpful_count'].fillna('0')\n",
    "df['helpful_count_int'] = df['helpful_count'].apply(lambda x: 1 if x.split(\" \")[0] == 'One' else int(x.split(\" \")[0]))"
   ]
  },
  {
   "cell_type": "code",
   "execution_count": 32,
   "id": "2e3b04bc-5758-4e8c-bd13-3e6d0b1afd29",
   "metadata": {
    "scrolled": true,
    "tags": []
   },
   "outputs": [
    {
     "name": "stdout",
     "output_type": "stream",
     "text": [
      "Number of nulls/empty space in each column in the dataframe\n",
      "url  :  0\n",
      "url  :  0 \n",
      "\n",
      "product_name  :  0\n",
      "product_name  :  0 \n",
      "\n",
      "reviewer_name  :  0\n",
      "reviewer_name  :  0 \n",
      "\n",
      "review_title  :  0\n",
      "review_title  :  0 \n",
      "\n",
      "review_text  :  0\n",
      "review_text  :  0 \n",
      "\n",
      "review_rating  :  0\n",
      "review_rating  :  0 \n",
      "\n",
      "verified_purchase  :  0\n",
      "verified_purchase  :  0 \n",
      "\n",
      "review_date  :  0\n",
      "review_date  :  0 \n",
      "\n",
      "helpful_count  :  0\n",
      "helpful_count  :  0 \n",
      "\n",
      "uniq_id  :  0\n",
      "uniq_id  :  0 \n",
      "\n",
      "scraped_at  :  0\n",
      "scraped_at  :  0 \n",
      "\n",
      "product_brand_name  :  0\n",
      "product_brand_name  :  0 \n",
      "\n",
      "product_style_name  :  0\n",
      "product_style_name  :  20 \n",
      "\n",
      "product_shoe_gender  :  0\n",
      "product_shoe_gender  :  0 \n",
      "\n",
      "review_market  :  0\n",
      "review_market  :  0 \n",
      "\n",
      "review_posted_date  :  0\n",
      "review_posted_date  :  0 \n",
      "\n",
      "scraped_date_diff_posted  :  0\n",
      "scraped_date_diff_posted  :  0 \n",
      "\n",
      "review_lang  :  0\n",
      "review_lang  :  0 \n",
      "\n",
      "checked_user_name  :  0\n",
      "checked_user_name  :  0 \n",
      "\n",
      "helpful_count_int  :  0\n",
      "helpful_count_int  :  0 \n",
      "\n"
     ]
    }
   ],
   "source": [
    "print(\"Number of nulls/empty space in each column in the dataframe\")\n",
    "for col in df.columns:\n",
    "    print(col, \" : \" , df[col].isna().sum())\n",
    "    print(col, \" : \" , (df[col].apply(lambda x: len(str(x))) < 1).sum(), \"\\n\")"
   ]
  },
  {
   "cell_type": "markdown",
   "id": "5d25aaed-722e-48b0-947e-fa52e5da91ef",
   "metadata": {
    "tags": []
   },
   "source": [
    "#### 8,9. Dealing with duplicate data"
   ]
  },
  {
   "cell_type": "code",
   "execution_count": 33,
   "id": "001924ba-4f4a-4828-ba7b-cd49b56b975d",
   "metadata": {},
   "outputs": [],
   "source": [
    "df_uniq = df.drop_duplicates(['uniq_id', 'product_name', 'review_text'])"
   ]
  },
  {
   "cell_type": "code",
   "execution_count": 34,
   "id": "bbb0e268-fa64-4a65-98b0-e295d7befa45",
   "metadata": {},
   "outputs": [
    {
     "data": {
      "text/plain": [
       "((6823, 20), (6820, 20))"
      ]
     },
     "execution_count": 34,
     "metadata": {},
     "output_type": "execute_result"
    }
   ],
   "source": [
    "df.shape, df_uniq.shape"
   ]
  },
  {
   "cell_type": "markdown",
   "id": "2cd799a8-3bdc-477a-9b49-ae538bef7048",
   "metadata": {
    "tags": []
   },
   "source": [
    "#### 10. Data Types checking"
   ]
  },
  {
   "cell_type": "code",
   "execution_count": 35,
   "id": "bc3307ab-e15f-401b-b841-112864d1c9e6",
   "metadata": {},
   "outputs": [],
   "source": [
    "df_uniq = df_uniq[['uniq_id', 'product_brand_name', 'product_style_name', 'product_shoe_gender', 'product_name',  \n",
    "'checked_user_name', 'verified_purchase',  'review_title', 'review_text', 'review_rating', 'review_market', \n",
    "'review_posted_date', 'review_lang',  'helpful_count_int', 'scraped_date_diff_posted', 'reviewer_name', \n",
    "'review_date',  'scraped_at', 'helpful_count', 'url']].sort_values(['uniq_id']).reset_index(drop=True)"
   ]
  },
  {
   "cell_type": "code",
   "execution_count": 36,
   "id": "d50e1737-7e51-4b0b-8f0c-e46e7e25c045",
   "metadata": {},
   "outputs": [
    {
     "name": "stdout",
     "output_type": "stream",
     "text": [
      "<class 'pandas.core.frame.DataFrame'>\n",
      "RangeIndex: 6820 entries, 0 to 6819\n",
      "Data columns (total 20 columns):\n",
      " #   Column                    Non-Null Count  Dtype         \n",
      "---  ------                    --------------  -----         \n",
      " 0   uniq_id                   6820 non-null   object        \n",
      " 1   product_brand_name        6820 non-null   object        \n",
      " 2   product_style_name        6820 non-null   object        \n",
      " 3   product_shoe_gender       6820 non-null   object        \n",
      " 4   product_name              6820 non-null   object        \n",
      " 5   checked_user_name         6820 non-null   object        \n",
      " 6   verified_purchase         6820 non-null   bool          \n",
      " 7   review_title              6820 non-null   object        \n",
      " 8   review_text               6820 non-null   object        \n",
      " 9   review_rating             6820 non-null   float64       \n",
      " 10  review_market             6820 non-null   object        \n",
      " 11  review_posted_date        6820 non-null   datetime64[ns]\n",
      " 12  review_lang               6820 non-null   object        \n",
      " 13  helpful_count_int         6820 non-null   int64         \n",
      " 14  scraped_date_diff_posted  6820 non-null   int64         \n",
      " 15  reviewer_name             6820 non-null   object        \n",
      " 16  review_date               6820 non-null   object        \n",
      " 17  scraped_at                6820 non-null   datetime64[ns]\n",
      " 18  helpful_count             6820 non-null   object        \n",
      " 19  url                       6820 non-null   object        \n",
      "dtypes: bool(1), datetime64[ns](2), float64(1), int64(2), object(14)\n",
      "memory usage: 1019.1+ KB\n"
     ]
    }
   ],
   "source": [
    "df_uniq.info()"
   ]
  },
  {
   "cell_type": "code",
   "execution_count": 37,
   "id": "c7e3e92e-5a0c-4dbc-ab8d-4260a5c4d6e2",
   "metadata": {},
   "outputs": [
    {
     "data": {
      "text/html": [
       "<div>\n",
       "<style scoped>\n",
       "    .dataframe tbody tr th:only-of-type {\n",
       "        vertical-align: middle;\n",
       "    }\n",
       "\n",
       "    .dataframe tbody tr th {\n",
       "        vertical-align: top;\n",
       "    }\n",
       "\n",
       "    .dataframe thead th {\n",
       "        text-align: right;\n",
       "    }\n",
       "</style>\n",
       "<table border=\"1\" class=\"dataframe\">\n",
       "  <thead>\n",
       "    <tr style=\"text-align: right;\">\n",
       "      <th></th>\n",
       "      <th>review_rating</th>\n",
       "      <th>helpful_count_int</th>\n",
       "      <th>scraped_date_diff_posted</th>\n",
       "    </tr>\n",
       "  </thead>\n",
       "  <tbody>\n",
       "    <tr>\n",
       "      <th>count</th>\n",
       "      <td>6820.000000</td>\n",
       "      <td>6820.000000</td>\n",
       "      <td>6820.000000</td>\n",
       "    </tr>\n",
       "    <tr>\n",
       "      <th>mean</th>\n",
       "      <td>4.132111</td>\n",
       "      <td>1.269208</td>\n",
       "      <td>538.662610</td>\n",
       "    </tr>\n",
       "    <tr>\n",
       "      <th>std</th>\n",
       "      <td>1.337139</td>\n",
       "      <td>5.497773</td>\n",
       "      <td>493.626145</td>\n",
       "    </tr>\n",
       "    <tr>\n",
       "      <th>min</th>\n",
       "      <td>1.000000</td>\n",
       "      <td>0.000000</td>\n",
       "      <td>4.000000</td>\n",
       "    </tr>\n",
       "    <tr>\n",
       "      <th>25%</th>\n",
       "      <td>4.000000</td>\n",
       "      <td>0.000000</td>\n",
       "      <td>192.000000</td>\n",
       "    </tr>\n",
       "    <tr>\n",
       "      <th>50%</th>\n",
       "      <td>5.000000</td>\n",
       "      <td>0.000000</td>\n",
       "      <td>399.000000</td>\n",
       "    </tr>\n",
       "    <tr>\n",
       "      <th>75%</th>\n",
       "      <td>5.000000</td>\n",
       "      <td>1.000000</td>\n",
       "      <td>759.250000</td>\n",
       "    </tr>\n",
       "    <tr>\n",
       "      <th>max</th>\n",
       "      <td>5.000000</td>\n",
       "      <td>165.000000</td>\n",
       "      <td>4264.000000</td>\n",
       "    </tr>\n",
       "  </tbody>\n",
       "</table>\n",
       "</div>"
      ],
      "text/plain": [
       "       review_rating  helpful_count_int  scraped_date_diff_posted\n",
       "count    6820.000000        6820.000000               6820.000000\n",
       "mean        4.132111           1.269208                538.662610\n",
       "std         1.337139           5.497773                493.626145\n",
       "min         1.000000           0.000000                  4.000000\n",
       "25%         4.000000           0.000000                192.000000\n",
       "50%         5.000000           0.000000                399.000000\n",
       "75%         5.000000           1.000000                759.250000\n",
       "max         5.000000         165.000000               4264.000000"
      ]
     },
     "execution_count": 37,
     "metadata": {},
     "output_type": "execute_result"
    }
   ],
   "source": [
    "df_uniq.describe()"
   ]
  },
  {
   "cell_type": "markdown",
   "id": "aa263ff7-b9de-4db7-b505-00a9c226d68a",
   "metadata": {},
   "source": [
    "Implications from above summary table for the 3 data points:\n",
    "1. The std of `review_rating` is 1.33 AND the values at 25%ile onwards are 4+. This means that atleast 75% of the reviews in this dataset have > 4 rating. Using review rating alone as a metric for popularity in this case will not be enough to understand the bigger picture. So we need to combine this with other metrics to understand popularity.\n",
    "\n",
    "2. For `helpful_count_int`, only very few reviews have been helpful to others from our data. \n",
    "\n",
    "3. From `scraped_date_diff_posted`, we see that the num of recent reviews has been very less compared to old reviews. This could be because the reviews for the products we're extracting are all old products/brands and consumers now might be buying other new products which we haven't scraped yet. Or it could also be that shoes are the kind of product that you leave a review if it is either really good or bad. "
   ]
  },
  {
   "cell_type": "code",
   "execution_count": 39,
   "id": "d1339722-9392-4f32-bf5c-930fc3730739",
   "metadata": {},
   "outputs": [],
   "source": [
    "df_uniq.to_csv(\"cleaned_df.csv\", sep=\"\\t\", index=False)"
   ]
  },
  {
   "cell_type": "markdown",
   "id": "10ea4208-ff9f-4ad1-a164-120a3573e144",
   "metadata": {
    "tags": []
   },
   "source": [
    "### Next notebook \n",
    "\n",
    "02_tasks.ipynb contains solution and thought process to tackling the different tasks outlined in the challenge"
   ]
  },
  {
   "cell_type": "code",
   "execution_count": null,
   "id": "c01a72a9-aa52-429e-80de-e700fd880fb9",
   "metadata": {},
   "outputs": [],
   "source": []
  }
 ],
 "metadata": {
  "kernelspec": {
   "display_name": "Python 3 (ipykernel)",
   "language": "python",
   "name": "python3"
  },
  "language_info": {
   "codemirror_mode": {
    "name": "ipython",
    "version": 3
   },
   "file_extension": ".py",
   "mimetype": "text/x-python",
   "name": "python",
   "nbconvert_exporter": "python",
   "pygments_lexer": "ipython3",
   "version": "3.11.3"
  }
 },
 "nbformat": 4,
 "nbformat_minor": 5
}
